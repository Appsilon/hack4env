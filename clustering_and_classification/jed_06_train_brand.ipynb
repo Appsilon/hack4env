{
 "cells": [
  {
   "cell_type": "code",
   "execution_count": 1,
   "metadata": {},
   "outputs": [],
   "source": [
    "from fastai.vision import *\n",
    "\n",
    "import pandas as pd\n",
    "\n",
    "from PIL import Image, ImageFile\n",
    "ImageFile.LOAD_TRUNCATED_IMAGES = True\n",
    "\n",
    "from pathlib import Path\n",
    "import os"
   ]
  },
  {
   "cell_type": "code",
   "execution_count": 2,
   "metadata": {},
   "outputs": [],
   "source": [
    "# Caution!\n",
    "import warnings\n",
    "warnings.filterwarnings('ignore')"
   ]
  },
  {
   "cell_type": "code",
   "execution_count": 3,
   "metadata": {},
   "outputs": [],
   "source": [
    "PATH_TO_IMG = Path(\"/home/jupyter/brand_images_rescaled\")"
   ]
  },
  {
   "cell_type": "code",
   "execution_count": 4,
   "metadata": {},
   "outputs": [],
   "source": [
    "df = pd.read_csv(\"jsondata_nona.csv\")\n",
    "df_brands = df[df.result_string.str.contains(\"brands.\")].copy()\n",
    "df_brands[\"brands\"] = df_brands.result_string.str.extract(\"brands\\.([^\\s]*)\\s\")\n",
    "df_brands[\"file\"] = df_brands.filename.apply(lambda x: \"resc_\" + x.split(\".com/\")[1].replace(\"/\",\"@\"))\n",
    "df_brands[[\"filename\", \"file\", \"brands\"]].to_csv(\"brands.csv\", index=False)\n",
    "df_brands = df_brands.drop_duplicates(\"file\")"
   ]
  },
  {
   "cell_type": "code",
   "execution_count": 5,
   "metadata": {},
   "outputs": [
    {
     "name": "stdout",
     "output_type": "stream",
     "text": [
      "7835\n"
     ]
    },
    {
     "data": {
      "text/html": [
       "<div>\n",
       "<style scoped>\n",
       "    .dataframe tbody tr th:only-of-type {\n",
       "        vertical-align: middle;\n",
       "    }\n",
       "\n",
       "    .dataframe tbody tr th {\n",
       "        vertical-align: top;\n",
       "    }\n",
       "\n",
       "    .dataframe thead th {\n",
       "        text-align: right;\n",
       "    }\n",
       "</style>\n",
       "<table border=\"1\" class=\"dataframe\">\n",
       "  <thead>\n",
       "    <tr style=\"text-align: right;\">\n",
       "      <th></th>\n",
       "      <th>filename</th>\n",
       "      <th>lon</th>\n",
       "      <th>lat</th>\n",
       "      <th>result_string</th>\n",
       "      <th>brands</th>\n",
       "      <th>file</th>\n",
       "    </tr>\n",
       "  </thead>\n",
       "  <tbody>\n",
       "    <tr>\n",
       "      <th>8</th>\n",
       "      <td>https://olm-s3.s3.eu-west-1.amazonaws.com/2020...</td>\n",
       "      <td>-65.713653</td>\n",
       "      <td>18.189428</td>\n",
       "      <td>smoking.butts 2,food.napkins 3,alcohol.beerCan...</td>\n",
       "      <td>heineken</td>\n",
       "      <td>resc_2020@01@05@ZS8BFkReD3sPjdvB3Ci1tO3KhsKrk5...</td>\n",
       "    </tr>\n",
       "    <tr>\n",
       "      <th>10</th>\n",
       "      <td>https://olm-s3.s3.eu-west-1.amazonaws.com/2020...</td>\n",
       "      <td>-65.712997</td>\n",
       "      <td>18.189283</td>\n",
       "      <td>alcohol.beerBottle 1,brands.heineken 1,</td>\n",
       "      <td>heineken</td>\n",
       "      <td>resc_2020@01@05@iSoN1xTuIuXiDoVGEbb87gIMMJt8Rn...</td>\n",
       "    </tr>\n",
       "    <tr>\n",
       "      <th>15</th>\n",
       "      <td>https://olm-s3.s3.eu-west-1.amazonaws.com/2020...</td>\n",
       "      <td>-2.772879</td>\n",
       "      <td>52.684982</td>\n",
       "      <td>food.plasticFoodPackaging 1,food.crisp_small 1...</td>\n",
       "      <td>coke</td>\n",
       "      <td>resc_2020@01@05@5781.png</td>\n",
       "    </tr>\n",
       "    <tr>\n",
       "      <th>18</th>\n",
       "      <td>https://olm-s3.s3.eu-west-1.amazonaws.com/2020...</td>\n",
       "      <td>-2.754956</td>\n",
       "      <td>52.686947</td>\n",
       "      <td>smoking.butts 1,food.sweetWrappers 1,food.pape...</td>\n",
       "      <td>marlboro</td>\n",
       "      <td>resc_2020@01@05@5785.png</td>\n",
       "    </tr>\n",
       "    <tr>\n",
       "      <th>19</th>\n",
       "      <td>https://olm-s3.s3.eu-west-1.amazonaws.com/2020...</td>\n",
       "      <td>-2.801667</td>\n",
       "      <td>52.689709</td>\n",
       "      <td>smoking.cigaretteBox 1,food.sweetWrappers 1,fo...</td>\n",
       "      <td>mcdonalds</td>\n",
       "      <td>resc_2020@01@05@5787.png</td>\n",
       "    </tr>\n",
       "    <tr>\n",
       "      <th>...</th>\n",
       "      <td>...</td>\n",
       "      <td>...</td>\n",
       "      <td>...</td>\n",
       "      <td>...</td>\n",
       "      <td>...</td>\n",
       "      <td>...</td>\n",
       "    </tr>\n",
       "    <tr>\n",
       "      <th>54912</th>\n",
       "      <td>https://olm-s3.s3.eu-west-1.amazonaws.com/2020...</td>\n",
       "      <td>6.148683</td>\n",
       "      <td>52.792786</td>\n",
       "      <td>brands.heineken 1,</td>\n",
       "      <td>heineken</td>\n",
       "      <td>resc_2020@12@31@Aifw4YDUCvoFVLic7AZoUMSx073tKP...</td>\n",
       "    </tr>\n",
       "    <tr>\n",
       "      <th>54921</th>\n",
       "      <td>https://olm-s3.s3.eu-west-1.amazonaws.com/2020...</td>\n",
       "      <td>6.148286</td>\n",
       "      <td>52.792044</td>\n",
       "      <td>softdrinks.tinCan 1,brands.redbull 1,</td>\n",
       "      <td>redbull</td>\n",
       "      <td>resc_2020@12@31@jyRsppY7aYRrtOCooIJRTfBaAKVKjX...</td>\n",
       "    </tr>\n",
       "    <tr>\n",
       "      <th>54957</th>\n",
       "      <td>https://olm-s3.s3.eu-west-1.amazonaws.com/2020...</td>\n",
       "      <td>6.143578</td>\n",
       "      <td>52.791369</td>\n",
       "      <td>softdrinks.tinCan 1,brands.coke 1,</td>\n",
       "      <td>coke</td>\n",
       "      <td>resc_2020@12@31@LwmsY1vCO1Nm6vPCgD3IDUnDJvdiur...</td>\n",
       "    </tr>\n",
       "    <tr>\n",
       "      <th>55005</th>\n",
       "      <td>https://olm-s3.s3.eu-west-1.amazonaws.com/2021...</td>\n",
       "      <td>4.736838</td>\n",
       "      <td>52.485755</td>\n",
       "      <td>softdrinks.energy_can 1,brands.redbull 1,</td>\n",
       "      <td>redbull</td>\n",
       "      <td>resc_2021@01@02@IMG_6554.JPG</td>\n",
       "    </tr>\n",
       "    <tr>\n",
       "      <th>55006</th>\n",
       "      <td>https://olm-s3.s3.eu-west-1.amazonaws.com/2021...</td>\n",
       "      <td>4.736853</td>\n",
       "      <td>52.485753</td>\n",
       "      <td>softdrinks.energy_can 1,brands.redbull 1,</td>\n",
       "      <td>redbull</td>\n",
       "      <td>resc_2021@01@02@IMG_6553.JPG</td>\n",
       "    </tr>\n",
       "  </tbody>\n",
       "</table>\n",
       "<p>7835 rows × 6 columns</p>\n",
       "</div>"
      ],
      "text/plain": [
       "                                                filename        lon  \\\n",
       "8      https://olm-s3.s3.eu-west-1.amazonaws.com/2020... -65.713653   \n",
       "10     https://olm-s3.s3.eu-west-1.amazonaws.com/2020... -65.712997   \n",
       "15     https://olm-s3.s3.eu-west-1.amazonaws.com/2020...  -2.772879   \n",
       "18     https://olm-s3.s3.eu-west-1.amazonaws.com/2020...  -2.754956   \n",
       "19     https://olm-s3.s3.eu-west-1.amazonaws.com/2020...  -2.801667   \n",
       "...                                                  ...        ...   \n",
       "54912  https://olm-s3.s3.eu-west-1.amazonaws.com/2020...   6.148683   \n",
       "54921  https://olm-s3.s3.eu-west-1.amazonaws.com/2020...   6.148286   \n",
       "54957  https://olm-s3.s3.eu-west-1.amazonaws.com/2020...   6.143578   \n",
       "55005  https://olm-s3.s3.eu-west-1.amazonaws.com/2021...   4.736838   \n",
       "55006  https://olm-s3.s3.eu-west-1.amazonaws.com/2021...   4.736853   \n",
       "\n",
       "             lat                                      result_string  \\\n",
       "8      18.189428  smoking.butts 2,food.napkins 3,alcohol.beerCan...   \n",
       "10     18.189283            alcohol.beerBottle 1,brands.heineken 1,   \n",
       "15     52.684982  food.plasticFoodPackaging 1,food.crisp_small 1...   \n",
       "18     52.686947  smoking.butts 1,food.sweetWrappers 1,food.pape...   \n",
       "19     52.689709  smoking.cigaretteBox 1,food.sweetWrappers 1,fo...   \n",
       "...          ...                                                ...   \n",
       "54912  52.792786                                 brands.heineken 1,   \n",
       "54921  52.792044              softdrinks.tinCan 1,brands.redbull 1,   \n",
       "54957  52.791369                 softdrinks.tinCan 1,brands.coke 1,   \n",
       "55005  52.485755          softdrinks.energy_can 1,brands.redbull 1,   \n",
       "55006  52.485753          softdrinks.energy_can 1,brands.redbull 1,   \n",
       "\n",
       "          brands                                               file  \n",
       "8       heineken  resc_2020@01@05@ZS8BFkReD3sPjdvB3Ci1tO3KhsKrk5...  \n",
       "10      heineken  resc_2020@01@05@iSoN1xTuIuXiDoVGEbb87gIMMJt8Rn...  \n",
       "15          coke                           resc_2020@01@05@5781.png  \n",
       "18      marlboro                           resc_2020@01@05@5785.png  \n",
       "19     mcdonalds                           resc_2020@01@05@5787.png  \n",
       "...          ...                                                ...  \n",
       "54912   heineken  resc_2020@12@31@Aifw4YDUCvoFVLic7AZoUMSx073tKP...  \n",
       "54921    redbull  resc_2020@12@31@jyRsppY7aYRrtOCooIJRTfBaAKVKjX...  \n",
       "54957       coke  resc_2020@12@31@LwmsY1vCO1Nm6vPCgD3IDUnDJvdiur...  \n",
       "55005    redbull                       resc_2021@01@02@IMG_6554.JPG  \n",
       "55006    redbull                       resc_2021@01@02@IMG_6553.JPG  \n",
       "\n",
       "[7835 rows x 6 columns]"
      ]
     },
     "execution_count": 5,
     "metadata": {},
     "output_type": "execute_result"
    }
   ],
   "source": [
    "# filter only to files we actually have\n",
    "df_brands = df_brands[df_brands.file.isin(os.listdir(PATH_TO_IMG))]\n",
    "print(len(df_brands))\n",
    "df_brands"
   ]
  },
  {
   "cell_type": "code",
   "execution_count": 6,
   "metadata": {},
   "outputs": [
    {
     "data": {
      "text/plain": [
       "7835"
      ]
     },
     "execution_count": 6,
     "metadata": {},
     "output_type": "execute_result"
    }
   ],
   "source": [
    "df_brands.filename.nunique()"
   ]
  },
  {
   "cell_type": "code",
   "execution_count": 7,
   "metadata": {},
   "outputs": [
    {
     "data": {
      "text/plain": [
       "7827"
      ]
     },
     "execution_count": 7,
     "metadata": {},
     "output_type": "execute_result"
    }
   ],
   "source": [
    "# remove brands with single image\n",
    "dic = dict(df_brands.brands.value_counts())\n",
    "are_many = [k for k in dic if dic[k] > 1]\n",
    "df_brands = df_brands[df_brands.brands.apply(lambda x: x in are_many)].copy()\n",
    "len(df_brands)"
   ]
  },
  {
   "cell_type": "code",
   "execution_count": 8,
   "metadata": {},
   "outputs": [
    {
     "data": {
      "text/plain": [
       "jpeg    5459\n",
       "png     1573\n",
       "jpg      539\n",
       "JPG      256\n",
       "Name: file, dtype: int64"
      ]
     },
     "execution_count": 8,
     "metadata": {},
     "output_type": "execute_result"
    }
   ],
   "source": [
    "#formats\n",
    "df_brands.file.apply(lambda x: x.split(\".\")[-1]).value_counts()"
   ]
  },
  {
   "cell_type": "code",
   "execution_count": 9,
   "metadata": {},
   "outputs": [
    {
     "data": {
      "text/plain": [
       "brands\n",
       "adidas        0.285714\n",
       "aldi          0.250000\n",
       "amazon        0.000000\n",
       "bewleys       0.000000\n",
       "budweiser     0.139785\n",
       "bulmers       0.090909\n",
       "burgerking    0.181818\n",
       "cadburys      0.130312\n",
       "camel         0.375000\n",
       "carlsberg     0.160000\n",
       "centra        0.000000\n",
       "circlek       0.250000\n",
       "coke          0.126420\n",
       "corona        0.254902\n",
       "costa         0.162162\n",
       "doritos       0.090909\n",
       "drpepper      0.217391\n",
       "fritolay      0.000000\n",
       "gatorade      0.000000\n",
       "guinness      0.285714\n",
       "haribo        0.214286\n",
       "heineken      0.158092\n",
       "insomnia      0.000000\n",
       "kellogs       0.200000\n",
       "kfc           0.187500\n",
       "lucozade      0.163462\n",
       "marlboro      0.120000\n",
       "mars          0.140187\n",
       "mcdonalds     0.147982\n",
       "nescafe       0.142857\n",
       "nestle        0.172727\n",
       "pepsi         0.104575\n",
       "powerade      0.250000\n",
       "redbull       0.140279\n",
       "ribena        0.157895\n",
       "sainsburys    0.000000\n",
       "spar          0.133333\n",
       "starbucks     0.214286\n",
       "stella        0.176056\n",
       "subway        0.125000\n",
       "supermacs     0.000000\n",
       "tayto         0.285714\n",
       "tesco         0.200000\n",
       "volvic        0.190476\n",
       "woolworths    0.000000\n",
       "wrigleys      0.142857\n",
       "dtype: float64"
      ]
     },
     "execution_count": 9,
     "metadata": {},
     "output_type": "execute_result"
    }
   ],
   "source": [
    "# pick validation set\n",
    "np.random.seed(273)\n",
    "df_brands[\"is_valid\"] = np.random.binomial(1, 0.15, len(df_brands)).astype(bool)\n",
    "df_brands.groupby(\"brands\").apply(lambda x: x.is_valid.sum() / len(x))"
   ]
  },
  {
   "cell_type": "code",
   "execution_count": 10,
   "metadata": {},
   "outputs": [],
   "source": [
    "# %%time\n",
    "# sizes = [list(Image.open(PATH_TO_IMG / file).size) + [file] for file in df_brands.file]"
   ]
  },
  {
   "cell_type": "code",
   "execution_count": 11,
   "metadata": {},
   "outputs": [],
   "source": [
    "# #resizing images\n",
    "# from PIL import ImageFile\n",
    "# ImageFile.LOAD_TRUNCATED_IMAGES = True\n",
    "\n",
    "# PATH_TO_IMG_RESC = Path(\"brand_images_rescaled/\")\n",
    "\n",
    "\n",
    "# x_y_image = sizes\n",
    "\n",
    "# exceptions = []\n",
    "# for x_y_image in tqdm(x_y_image):\n",
    "#     try:\n",
    "#         filename = x_y_image[2]\n",
    "#         new_filename = \"resc_\" + filename\n",
    "#         if os.path.isfile(PATH_TO_IMG_RESC / new_filename):\n",
    "#             continue\n",
    "#         img = Image.open(PATH_TO_IMG / filename)\n",
    "#         y = 384\n",
    "#         scale = 384 / int(x_y_image[1])\n",
    "#         x = round(scale * int(x_y_image[0]))\n",
    "#         img = img.resize((x, y), Image.ANTIALIAS)\n",
    "#         img.save(PATH_TO_IMG_RESC / new_filename)\n",
    "#         piexif.transplant(PATH_TO_IMG / filename, PATH_TO_IMG_RESC / new_filename)\n",
    "#     except Exception as e:\n",
    "#         exceptions.append([x_y_image, e])\n",
    "        \n",
    "# np.save(\"exceptions.npy\", exceptions)"
   ]
  },
  {
   "cell_type": "code",
   "execution_count": 12,
   "metadata": {},
   "outputs": [],
   "source": [
    "batch_size = 32\n",
    "img_size = (256, 256)\n",
    "\n",
    "np.random.seed(273)\n",
    "src = (ImageList.from_df(df_brands, cols=\"file\", path=PATH_TO_IMG)\n",
    "#        .use_partial_data(partial_pct)\n",
    "       .split_from_df(\"is_valid\")\n",
    "       .label_from_df(cols=\"brands\"))\n",
    "\n",
    "tfms = get_transforms()\n",
    "data = (src.transform(tfms, size=img_size, padding_mode =\"zeros\")\n",
    "        .databunch(bs=batch_size).normalize(imagenet_stats))"
   ]
  },
  {
   "cell_type": "code",
   "execution_count": 14,
   "metadata": {},
   "outputs": [],
   "source": [
    "# data.show_batch()"
   ]
  },
  {
   "cell_type": "code",
   "execution_count": 15,
   "metadata": {},
   "outputs": [],
   "source": [
    "learn = cnn_learner(data, models.resnet50, metrics=[accuracy])"
   ]
  },
  {
   "cell_type": "markdown",
   "metadata": {},
   "source": [
    "# stage 1"
   ]
  },
  {
   "cell_type": "code",
   "execution_count": 16,
   "metadata": {},
   "outputs": [
    {
     "data": {
      "text/html": [
       "\n",
       "    <div>\n",
       "        <style>\n",
       "            /* Turns off some styling */\n",
       "            progress {\n",
       "                /* gets rid of default border in Firefox and Opera. */\n",
       "                border: none;\n",
       "                /* Needs to be in here for Safari polyfill so background images work as expected. */\n",
       "                background-size: auto;\n",
       "            }\n",
       "            .progress-bar-interrupted, .progress-bar-interrupted::-webkit-progress-bar {\n",
       "                background: #F44336;\n",
       "            }\n",
       "        </style>\n",
       "      <progress value='0' class='' max='1' style='width:300px; height:20px; vertical-align: middle;'></progress>\n",
       "      0.00% [0/1 00:00<00:00]\n",
       "    </div>\n",
       "    \n",
       "<table border=\"1\" class=\"dataframe\">\n",
       "  <thead>\n",
       "    <tr style=\"text-align: left;\">\n",
       "      <th>epoch</th>\n",
       "      <th>train_loss</th>\n",
       "      <th>valid_loss</th>\n",
       "      <th>accuracy</th>\n",
       "      <th>time</th>\n",
       "    </tr>\n",
       "  </thead>\n",
       "  <tbody>\n",
       "  </tbody>\n",
       "</table><p>\n",
       "\n",
       "    <div>\n",
       "        <style>\n",
       "            /* Turns off some styling */\n",
       "            progress {\n",
       "                /* gets rid of default border in Firefox and Opera. */\n",
       "                border: none;\n",
       "                /* Needs to be in here for Safari polyfill so background images work as expected. */\n",
       "                background-size: auto;\n",
       "            }\n",
       "            .progress-bar-interrupted, .progress-bar-interrupted::-webkit-progress-bar {\n",
       "                background: #F44336;\n",
       "            }\n",
       "        </style>\n",
       "      <progress value='91' class='' max='208' style='width:300px; height:20px; vertical-align: middle;'></progress>\n",
       "      43.75% [91/208 00:50<01:04 16.4388]\n",
       "    </div>\n",
       "    "
      ],
      "text/plain": [
       "<IPython.core.display.HTML object>"
      ]
     },
     "metadata": {},
     "output_type": "display_data"
    },
    {
     "name": "stdout",
     "output_type": "stream",
     "text": [
      "LR Finder is complete, type {learner_name}.recorder.plot() to see the graph.\n"
     ]
    },
    {
     "data": {
      "image/png": "[encoded data removed]",
      "text/plain": [
       "<Figure size 432x288 with 1 Axes>"
      ]
     },
     "metadata": {
      "needs_background": "light"
     },
     "output_type": "display_data"
    }
   ],
   "source": [
    "learn.lr_find()\n",
    "learn.recorder.plot()"
   ]
  },
  {
   "cell_type": "code",
   "execution_count": 18,
   "metadata": {},
   "outputs": [],
   "source": [
    "# Image.open(PATH_TO_IMG / \"resc_2020@02@15@aCZsjDmo6s8Ovs0PulbGAzIT6uX8Izuwt8b06dLB.jpeg\")"
   ]
  },
  {
   "cell_type": "code",
   "execution_count": 19,
   "metadata": {},
   "outputs": [
    {
     "data": {
      "text/html": [
       "<table border=\"1\" class=\"dataframe\">\n",
       "  <thead>\n",
       "    <tr style=\"text-align: left;\">\n",
       "      <th>epoch</th>\n",
       "      <th>train_loss</th>\n",
       "      <th>valid_loss</th>\n",
       "      <th>accuracy</th>\n",
       "      <th>time</th>\n",
       "    </tr>\n",
       "  </thead>\n",
       "  <tbody>\n",
       "    <tr>\n",
       "      <td>0</td>\n",
       "      <td>1.980298</td>\n",
       "      <td>1.485908</td>\n",
       "      <td>0.636998</td>\n",
       "      <td>01:47</td>\n",
       "    </tr>\n",
       "    <tr>\n",
       "      <td>1</td>\n",
       "      <td>1.495409</td>\n",
       "      <td>1.372574</td>\n",
       "      <td>0.669284</td>\n",
       "      <td>01:05</td>\n",
       "    </tr>\n",
       "    <tr>\n",
       "      <td>2</td>\n",
       "      <td>1.345254</td>\n",
       "      <td>1.241127</td>\n",
       "      <td>0.680628</td>\n",
       "      <td>01:05</td>\n",
       "    </tr>\n",
       "    <tr>\n",
       "      <td>3</td>\n",
       "      <td>1.240377</td>\n",
       "      <td>1.186038</td>\n",
       "      <td>0.687609</td>\n",
       "      <td>01:06</td>\n",
       "    </tr>\n",
       "    <tr>\n",
       "      <td>4</td>\n",
       "      <td>1.111572</td>\n",
       "      <td>1.103738</td>\n",
       "      <td>0.700698</td>\n",
       "      <td>01:05</td>\n",
       "    </tr>\n",
       "    <tr>\n",
       "      <td>5</td>\n",
       "      <td>1.009397</td>\n",
       "      <td>1.088921</td>\n",
       "      <td>0.693717</td>\n",
       "      <td>01:05</td>\n",
       "    </tr>\n",
       "    <tr>\n",
       "      <td>6</td>\n",
       "      <td>0.903722</td>\n",
       "      <td>1.079463</td>\n",
       "      <td>0.705934</td>\n",
       "      <td>01:05</td>\n",
       "    </tr>\n",
       "    <tr>\n",
       "      <td>7</td>\n",
       "      <td>0.783893</td>\n",
       "      <td>1.063547</td>\n",
       "      <td>0.709424</td>\n",
       "      <td>01:06</td>\n",
       "    </tr>\n",
       "  </tbody>\n",
       "</table>"
      ],
      "text/plain": [
       "<IPython.core.display.HTML object>"
      ]
     },
     "metadata": {},
     "output_type": "display_data"
    }
   ],
   "source": [
    "n_epochs = 8\n",
    "lr = 5e-03\n",
    "\n",
    "learn.fit_one_cycle(n_epochs, lr)"
   ]
  },
  {
   "cell_type": "markdown",
   "metadata": {},
   "source": [
    "We have 46 classes in the data"
   ]
  },
  {
   "cell_type": "code",
   "execution_count": 20,
   "metadata": {},
   "outputs": [
    {
     "data": {
      "text/html": [],
      "text/plain": [
       "<IPython.core.display.HTML object>"
      ]
     },
     "metadata": {},
     "output_type": "display_data"
    }
   ],
   "source": [
    "interp = ClassificationInterpretation.from_learner(learn)"
   ]
  },
  {
   "cell_type": "code",
   "execution_count": 21,
   "metadata": {},
   "outputs": [
    {
     "data": {
      "image/png": "[encoded data removed]",
      "text/plain": [
       "<Figure size 720x720 with 1 Axes>"
      ]
     },
     "metadata": {
      "needs_background": "light"
     },
     "output_type": "display_data"
    }
   ],
   "source": [
    "interp.plot_confusion_matrix(figsize=(12,12), dpi=60)"
   ]
  },
  {
   "cell_type": "markdown",
   "metadata": {},
   "source": [
    "# stage 2"
   ]
  },
  {
   "cell_type": "code",
   "execution_count": 22,
   "metadata": {},
   "outputs": [
    {
     "data": {
      "text/html": [
       "\n",
       "    <div>\n",
       "        <style>\n",
       "            /* Turns off some styling */\n",
       "            progress {\n",
       "                /* gets rid of default border in Firefox and Opera. */\n",
       "                border: none;\n",
       "                /* Needs to be in here for Safari polyfill so background images work as expected. */\n",
       "                background-size: auto;\n",
       "            }\n",
       "            .progress-bar-interrupted, .progress-bar-interrupted::-webkit-progress-bar {\n",
       "                background: #F44336;\n",
       "            }\n",
       "        </style>\n",
       "      <progress value='0' class='' max='1' style='width:300px; height:20px; vertical-align: middle;'></progress>\n",
       "      0.00% [0/1 00:00<00:00]\n",
       "    </div>\n",
       "    \n",
       "<table border=\"1\" class=\"dataframe\">\n",
       "  <thead>\n",
       "    <tr style=\"text-align: left;\">\n",
       "      <th>epoch</th>\n",
       "      <th>train_loss</th>\n",
       "      <th>valid_loss</th>\n",
       "      <th>accuracy</th>\n",
       "      <th>time</th>\n",
       "    </tr>\n",
       "  </thead>\n",
       "  <tbody>\n",
       "  </tbody>\n",
       "</table><p>\n",
       "\n",
       "    <div>\n",
       "        <style>\n",
       "            /* Turns off some styling */\n",
       "            progress {\n",
       "                /* gets rid of default border in Firefox and Opera. */\n",
       "                border: none;\n",
       "                /* Needs to be in here for Safari polyfill so background images work as expected. */\n",
       "                background-size: auto;\n",
       "            }\n",
       "            .progress-bar-interrupted, .progress-bar-interrupted::-webkit-progress-bar {\n",
       "                background: #F44336;\n",
       "            }\n",
       "        </style>\n",
       "      <progress value='83' class='' max='208' style='width:300px; height:20px; vertical-align: middle;'></progress>\n",
       "      39.90% [83/208 00:25<00:38 2.0337]\n",
       "    </div>\n",
       "    "
      ],
      "text/plain": [
       "<IPython.core.display.HTML object>"
      ]
     },
     "metadata": {},
     "output_type": "display_data"
    },
    {
     "name": "stdout",
     "output_type": "stream",
     "text": [
      "LR Finder is complete, type {learner_name}.recorder.plot() to see the graph.\n"
     ]
    },
    {
     "data": {
      "image/png": "[encoded data removed]",
      "text/plain": [
       "<Figure size 432x288 with 1 Axes>"
      ]
     },
     "metadata": {
      "needs_background": "light"
     },
     "output_type": "display_data"
    }
   ],
   "source": [
    "learn.unfreeze()\n",
    "learn.lr_find()\n",
    "learn.recorder.plot()"
   ]
  },
  {
   "cell_type": "code",
   "execution_count": 23,
   "metadata": {},
   "outputs": [
    {
     "data": {
      "text/html": [
       "<table border=\"1\" class=\"dataframe\">\n",
       "  <thead>\n",
       "    <tr style=\"text-align: left;\">\n",
       "      <th>epoch</th>\n",
       "      <th>train_loss</th>\n",
       "      <th>valid_loss</th>\n",
       "      <th>accuracy</th>\n",
       "      <th>time</th>\n",
       "    </tr>\n",
       "  </thead>\n",
       "  <tbody>\n",
       "    <tr>\n",
       "      <td>0</td>\n",
       "      <td>0.790734</td>\n",
       "      <td>1.083896</td>\n",
       "      <td>0.714660</td>\n",
       "      <td>01:09</td>\n",
       "    </tr>\n",
       "    <tr>\n",
       "      <td>1</td>\n",
       "      <td>0.817114</td>\n",
       "      <td>1.109465</td>\n",
       "      <td>0.720768</td>\n",
       "      <td>01:09</td>\n",
       "    </tr>\n",
       "    <tr>\n",
       "      <td>2</td>\n",
       "      <td>0.783489</td>\n",
       "      <td>1.090966</td>\n",
       "      <td>0.712914</td>\n",
       "      <td>01:09</td>\n",
       "    </tr>\n",
       "    <tr>\n",
       "      <td>3</td>\n",
       "      <td>0.716003</td>\n",
       "      <td>1.091372</td>\n",
       "      <td>0.723386</td>\n",
       "      <td>01:09</td>\n",
       "    </tr>\n",
       "    <tr>\n",
       "      <td>4</td>\n",
       "      <td>0.645014</td>\n",
       "      <td>1.081004</td>\n",
       "      <td>0.727749</td>\n",
       "      <td>01:09</td>\n",
       "    </tr>\n",
       "    <tr>\n",
       "      <td>5</td>\n",
       "      <td>0.550388</td>\n",
       "      <td>1.108141</td>\n",
       "      <td>0.720768</td>\n",
       "      <td>01:09</td>\n",
       "    </tr>\n",
       "    <tr>\n",
       "      <td>6</td>\n",
       "      <td>0.504335</td>\n",
       "      <td>1.090095</td>\n",
       "      <td>0.728621</td>\n",
       "      <td>01:09</td>\n",
       "    </tr>\n",
       "    <tr>\n",
       "      <td>7</td>\n",
       "      <td>0.480296</td>\n",
       "      <td>1.098241</td>\n",
       "      <td>0.728621</td>\n",
       "      <td>01:08</td>\n",
       "    </tr>\n",
       "  </tbody>\n",
       "</table>"
      ],
      "text/plain": [
       "<IPython.core.display.HTML object>"
      ]
     },
     "metadata": {},
     "output_type": "display_data"
    }
   ],
   "source": [
    "n_epochs = 8\n",
    "lr = 1e-4\n",
    "lr_end = 1e-5\n",
    "\n",
    "learn.fit_one_cycle(n_epochs, slice(lr, lr_end))"
   ]
  },
  {
   "cell_type": "code",
   "execution_count": 27,
   "metadata": {},
   "outputs": [],
   "source": [
    "learn.export(\"stage2_256.pkl\")\n",
    "learn.save(\"stage2_256\")"
   ]
  },
  {
   "cell_type": "markdown",
   "metadata": {},
   "source": [
    "# stage 3"
   ]
  },
  {
   "cell_type": "code",
   "execution_count": 10,
   "metadata": {},
   "outputs": [],
   "source": [
    "batch_size = 32\n",
    "img_size = (512, 512)\n",
    "\n",
    "np.random.seed(273)\n",
    "src = (ImageList.from_df(df_brands, cols=\"file\", path=PATH_TO_IMG)\n",
    "#        .use_partial_data(partial_pct)\n",
    "       .split_from_df(\"is_valid\")\n",
    "       .label_from_df(cols=\"brands\"))\n",
    "\n",
    "tfms = get_transforms()\n",
    "data = (src.transform(tfms, size=img_size, padding_mode =\"zeros\")\n",
    "        .databunch(bs=batch_size).normalize(imagenet_stats))"
   ]
  },
  {
   "cell_type": "code",
   "execution_count": 11,
   "metadata": {},
   "outputs": [],
   "source": [
    "learn = cnn_learner(data, models.resnet50, metrics=[accuracy])\n",
    "learn.load(\"stage2_256\");"
   ]
  },
  {
   "cell_type": "code",
   "execution_count": 12,
   "metadata": {},
   "outputs": [
    {
     "data": {
      "text/html": [
       "\n",
       "    <div>\n",
       "        <style>\n",
       "            /* Turns off some styling */\n",
       "            progress {\n",
       "                /* gets rid of default border in Firefox and Opera. */\n",
       "                border: none;\n",
       "                /* Needs to be in here for Safari polyfill so background images work as expected. */\n",
       "                background-size: auto;\n",
       "            }\n",
       "            .progress-bar-interrupted, .progress-bar-interrupted::-webkit-progress-bar {\n",
       "                background: #F44336;\n",
       "            }\n",
       "        </style>\n",
       "      <progress value='0' class='' max='1' style='width:300px; height:20px; vertical-align: middle;'></progress>\n",
       "      0.00% [0/1 00:00<00:00]\n",
       "    </div>\n",
       "    \n",
       "<table border=\"1\" class=\"dataframe\">\n",
       "  <thead>\n",
       "    <tr style=\"text-align: left;\">\n",
       "      <th>epoch</th>\n",
       "      <th>train_loss</th>\n",
       "      <th>valid_loss</th>\n",
       "      <th>accuracy</th>\n",
       "      <th>time</th>\n",
       "    </tr>\n",
       "  </thead>\n",
       "  <tbody>\n",
       "  </tbody>\n",
       "</table><p>\n",
       "\n",
       "    <div>\n",
       "        <style>\n",
       "            /* Turns off some styling */\n",
       "            progress {\n",
       "                /* gets rid of default border in Firefox and Opera. */\n",
       "                border: none;\n",
       "                /* Needs to be in here for Safari polyfill so background images work as expected. */\n",
       "                background-size: auto;\n",
       "            }\n",
       "            .progress-bar-interrupted, .progress-bar-interrupted::-webkit-progress-bar {\n",
       "                background: #F44336;\n",
       "            }\n",
       "        </style>\n",
       "      <progress value='91' class='' max='208' style='width:300px; height:20px; vertical-align: middle;'></progress>\n",
       "      43.75% [91/208 01:07<01:26 15.3875]\n",
       "    </div>\n",
       "    "
      ],
      "text/plain": [
       "<IPython.core.display.HTML object>"
      ]
     },
     "metadata": {},
     "output_type": "display_data"
    },
    {
     "name": "stdout",
     "output_type": "stream",
     "text": [
      "LR Finder is complete, type {learner_name}.recorder.plot() to see the graph.\n"
     ]
    },
    {
     "data": {
      "image/png": "[encoded data removed]",
      "text/plain": [
       "<Figure size 432x288 with 1 Axes>"
      ]
     },
     "metadata": {
      "needs_background": "light"
     },
     "output_type": "display_data"
    }
   ],
   "source": [
    "learn.freeze()\n",
    "learn.lr_find()\n",
    "learn.recorder.plot()"
   ]
  },
  {
   "cell_type": "code",
   "execution_count": 13,
   "metadata": {},
   "outputs": [
    {
     "data": {
      "text/html": [
       "<table border=\"1\" class=\"dataframe\">\n",
       "  <thead>\n",
       "    <tr style=\"text-align: left;\">\n",
       "      <th>epoch</th>\n",
       "      <th>train_loss</th>\n",
       "      <th>valid_loss</th>\n",
       "      <th>accuracy</th>\n",
       "      <th>time</th>\n",
       "    </tr>\n",
       "  </thead>\n",
       "  <tbody>\n",
       "    <tr>\n",
       "      <td>0</td>\n",
       "      <td>2.411141</td>\n",
       "      <td>1.705815</td>\n",
       "      <td>0.653578</td>\n",
       "      <td>02:40</td>\n",
       "    </tr>\n",
       "    <tr>\n",
       "      <td>1</td>\n",
       "      <td>1.505984</td>\n",
       "      <td>1.272546</td>\n",
       "      <td>0.692845</td>\n",
       "      <td>02:37</td>\n",
       "    </tr>\n",
       "    <tr>\n",
       "      <td>2</td>\n",
       "      <td>1.306798</td>\n",
       "      <td>1.174503</td>\n",
       "      <td>0.693717</td>\n",
       "      <td>02:39</td>\n",
       "    </tr>\n",
       "    <tr>\n",
       "      <td>3</td>\n",
       "      <td>1.103248</td>\n",
       "      <td>1.115085</td>\n",
       "      <td>0.705061</td>\n",
       "      <td>02:38</td>\n",
       "    </tr>\n",
       "    <tr>\n",
       "      <td>4</td>\n",
       "      <td>0.965094</td>\n",
       "      <td>1.082633</td>\n",
       "      <td>0.730366</td>\n",
       "      <td>02:39</td>\n",
       "    </tr>\n",
       "    <tr>\n",
       "      <td>5</td>\n",
       "      <td>0.784063</td>\n",
       "      <td>1.050829</td>\n",
       "      <td>0.732112</td>\n",
       "      <td>02:40</td>\n",
       "    </tr>\n",
       "    <tr>\n",
       "      <td>6</td>\n",
       "      <td>0.645794</td>\n",
       "      <td>1.070916</td>\n",
       "      <td>0.737347</td>\n",
       "      <td>02:39</td>\n",
       "    </tr>\n",
       "    <tr>\n",
       "      <td>7</td>\n",
       "      <td>0.558024</td>\n",
       "      <td>1.071157</td>\n",
       "      <td>0.740838</td>\n",
       "      <td>02:38</td>\n",
       "    </tr>\n",
       "  </tbody>\n",
       "</table>"
      ],
      "text/plain": [
       "<IPython.core.display.HTML object>"
      ]
     },
     "metadata": {},
     "output_type": "display_data"
    }
   ],
   "source": [
    "n_epochs = 8\n",
    "lr = 2e-03\n",
    "\n",
    "learn.fit_one_cycle(n_epochs, lr)"
   ]
  },
  {
   "cell_type": "markdown",
   "metadata": {},
   "source": [
    "# stage 4"
   ]
  },
  {
   "cell_type": "code",
   "execution_count": 14,
   "metadata": {},
   "outputs": [
    {
     "data": {
      "text/html": [
       "\n",
       "    <div>\n",
       "        <style>\n",
       "            /* Turns off some styling */\n",
       "            progress {\n",
       "                /* gets rid of default border in Firefox and Opera. */\n",
       "                border: none;\n",
       "                /* Needs to be in here for Safari polyfill so background images work as expected. */\n",
       "                background-size: auto;\n",
       "            }\n",
       "            .progress-bar-interrupted, .progress-bar-interrupted::-webkit-progress-bar {\n",
       "                background: #F44336;\n",
       "            }\n",
       "        </style>\n",
       "      <progress value='0' class='' max='1' style='width:300px; height:20px; vertical-align: middle;'></progress>\n",
       "      0.00% [0/1 00:00<00:00]\n",
       "    </div>\n",
       "    \n",
       "<table border=\"1\" class=\"dataframe\">\n",
       "  <thead>\n",
       "    <tr style=\"text-align: left;\">\n",
       "      <th>epoch</th>\n",
       "      <th>train_loss</th>\n",
       "      <th>valid_loss</th>\n",
       "      <th>accuracy</th>\n",
       "      <th>time</th>\n",
       "    </tr>\n",
       "  </thead>\n",
       "  <tbody>\n",
       "  </tbody>\n",
       "</table><p>\n",
       "\n",
       "    <div>\n",
       "        <style>\n",
       "            /* Turns off some styling */\n",
       "            progress {\n",
       "                /* gets rid of default border in Firefox and Opera. */\n",
       "                border: none;\n",
       "                /* Needs to be in here for Safari polyfill so background images work as expected. */\n",
       "                background-size: auto;\n",
       "            }\n",
       "            .progress-bar-interrupted, .progress-bar-interrupted::-webkit-progress-bar {\n",
       "                background: #F44336;\n",
       "            }\n",
       "        </style>\n",
       "      <progress value='69' class='' max='208' style='width:300px; height:20px; vertical-align: middle;'></progress>\n",
       "      33.17% [69/208 00:59<02:00 1.4135]\n",
       "    </div>\n",
       "    "
      ],
      "text/plain": [
       "<IPython.core.display.HTML object>"
      ]
     },
     "metadata": {},
     "output_type": "display_data"
    },
    {
     "name": "stdout",
     "output_type": "stream",
     "text": [
      "LR Finder is complete, type {learner_name}.recorder.plot() to see the graph.\n"
     ]
    },
    {
     "data": {
      "image/png": "[encoded data removed]",
      "text/plain": [
       "<Figure size 432x288 with 1 Axes>"
      ]
     },
     "metadata": {
      "needs_background": "light"
     },
     "output_type": "display_data"
    }
   ],
   "source": [
    "learn.unfreeze()\n",
    "learn.lr_find()\n",
    "learn.recorder.plot()"
   ]
  },
  {
   "cell_type": "code",
   "execution_count": 15,
   "metadata": {},
   "outputs": [
    {
     "data": {
      "text/html": [
       "<table border=\"1\" class=\"dataframe\">\n",
       "  <thead>\n",
       "    <tr style=\"text-align: left;\">\n",
       "      <th>epoch</th>\n",
       "      <th>train_loss</th>\n",
       "      <th>valid_loss</th>\n",
       "      <th>accuracy</th>\n",
       "      <th>time</th>\n",
       "    </tr>\n",
       "  </thead>\n",
       "  <tbody>\n",
       "    <tr>\n",
       "      <td>0</td>\n",
       "      <td>0.547437</td>\n",
       "      <td>1.069968</td>\n",
       "      <td>0.741710</td>\n",
       "      <td>03:05</td>\n",
       "    </tr>\n",
       "    <tr>\n",
       "      <td>1</td>\n",
       "      <td>0.609657</td>\n",
       "      <td>1.069967</td>\n",
       "      <td>0.748691</td>\n",
       "      <td>03:04</td>\n",
       "    </tr>\n",
       "    <tr>\n",
       "      <td>2</td>\n",
       "      <td>0.598009</td>\n",
       "      <td>1.087576</td>\n",
       "      <td>0.733857</td>\n",
       "      <td>03:05</td>\n",
       "    </tr>\n",
       "    <tr>\n",
       "      <td>3</td>\n",
       "      <td>0.495293</td>\n",
       "      <td>1.082028</td>\n",
       "      <td>0.748691</td>\n",
       "      <td>03:05</td>\n",
       "    </tr>\n",
       "    <tr>\n",
       "      <td>4</td>\n",
       "      <td>0.406778</td>\n",
       "      <td>1.101500</td>\n",
       "      <td>0.739965</td>\n",
       "      <td>03:04</td>\n",
       "    </tr>\n",
       "    <tr>\n",
       "      <td>5</td>\n",
       "      <td>0.349248</td>\n",
       "      <td>1.097250</td>\n",
       "      <td>0.743455</td>\n",
       "      <td>03:04</td>\n",
       "    </tr>\n",
       "    <tr>\n",
       "      <td>6</td>\n",
       "      <td>0.279231</td>\n",
       "      <td>1.115229</td>\n",
       "      <td>0.747818</td>\n",
       "      <td>03:04</td>\n",
       "    </tr>\n",
       "    <tr>\n",
       "      <td>7</td>\n",
       "      <td>0.243976</td>\n",
       "      <td>1.110360</td>\n",
       "      <td>0.741710</td>\n",
       "      <td>03:05</td>\n",
       "    </tr>\n",
       "  </tbody>\n",
       "</table>"
      ],
      "text/plain": [
       "<IPython.core.display.HTML object>"
      ]
     },
     "metadata": {},
     "output_type": "display_data"
    }
   ],
   "source": [
    "n_epochs = 8\n",
    "lr = 1e-04\n",
    "lr_end = 1e-05\n",
    "\n",
    "learn.fit_one_cycle(n_epochs, slice(lr, lr_end))"
   ]
  },
  {
   "cell_type": "code",
   "execution_count": 16,
   "metadata": {},
   "outputs": [],
   "source": [
    "learn.export(\"stage4_512\")\n",
    "learn.save(\"stage4_512\")"
   ]
  },
  {
   "cell_type": "code",
   "execution_count": 17,
   "metadata": {},
   "outputs": [
    {
     "data": {
      "text/html": [],
      "text/plain": [
       "<IPython.core.display.HTML object>"
      ]
     },
     "metadata": {},
     "output_type": "display_data"
    }
   ],
   "source": [
    "interp = ClassificationInterpretation.from_learner(learn)"
   ]
  },
  {
   "cell_type": "code",
   "execution_count": 18,
   "metadata": {},
   "outputs": [
    {
     "data": {
      "image/png": "[encoded data removed]",
      "text/plain": [
       "<Figure size 720x720 with 1 Axes>"
      ]
     },
     "metadata": {
      "needs_background": "light"
     },
     "output_type": "display_data"
    }
   ],
   "source": [
    "interp.plot_confusion_matrix(figsize=(12,12), dpi=60)"
   ]
  },
  {
   "cell_type": "code",
   "execution_count": null,
   "metadata": {},
   "outputs": [],
   "source": []
  }
 ],
 "metadata": {
  "environment": {
   "name": "pytorch-gpu.1-6.m59",
   "type": "gcloud",
   "uri": "gcr.io/deeplearning-platform-release/pytorch-gpu.1-6:m59"
  },
  "kernelspec": {
   "display_name": "Python 3",
   "language": "python",
   "name": "python3"
  },
  "language_info": {
   "codemirror_mode": {
    "name": "ipython",
    "version": 3
   },
   "file_extension": ".py",
   "mimetype": "text/x-python",
   "name": "python",
   "nbconvert_exporter": "python",
   "pygments_lexer": "ipython3",
   "version": "3.7.8"
  }
 },
 "nbformat": 4,
 "nbformat_minor": 4
}
