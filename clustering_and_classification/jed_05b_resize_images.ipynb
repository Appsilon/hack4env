{
 "cells": [
  {
   "cell_type": "code",
   "execution_count": 5,
   "metadata": {},
   "outputs": [],
   "source": [
    "#resizing images\n",
    "from PIL import ImageFile, Image\n",
    "ImageFile.LOAD_TRUNCATED_IMAGES = True\n",
    "\n",
    "from pathlib import Path\n",
    "import os\n",
    "\n",
    "PATH_TO_IMG_RESC = Path(\"brand_images_rescaled/\")\n",
    "PATH_TO_IMG = Path(\"brand_images/\")"
   ]
  },
  {
   "cell_type": "code",
   "execution_count": 25,
   "metadata": {},
   "outputs": [],
   "source": [
    "from tqdm.notebook import tqdm"
   ]
  },
  {
   "cell_type": "code",
   "execution_count": 20,
   "metadata": {},
   "outputs": [],
   "source": [
    "# sizes = [list(Image.open(PATH_TO_IMG / file).size) + [file] for file in os.listdir(PATH_TO_IMG) if not file.endswith(\"models\")]\n",
    "# sizes[:5]"
   ]
  },
  {
   "cell_type": "code",
   "execution_count": 19,
   "metadata": {},
   "outputs": [],
   "source": [
    "sizes=[]\n",
    "issues=[]\n",
    "for file in os.listdir(PATH_TO_IMG):\n",
    "    if not file.endswith(\"models\"):\n",
    "        try:\n",
    "            sizes.append(list(Image.open(PATH_TO_IMG / file).size) + [file])\n",
    "        except:\n",
    "            issues.append(file)\n",
    "            continue"
   ]
  },
  {
   "cell_type": "code",
   "execution_count": 21,
   "metadata": {},
   "outputs": [
    {
     "data": {
      "text/plain": [
       "(7963, 7948, 14)"
      ]
     },
     "execution_count": 21,
     "metadata": {},
     "output_type": "execute_result"
    }
   ],
   "source": [
    "len(os.listdir(PATH_TO_IMG)), len(sizes), len(issues)"
   ]
  },
  {
   "cell_type": "code",
   "execution_count": 24,
   "metadata": {},
   "outputs": [
    {
     "name": "stdout",
     "output_type": "stream",
     "text": [
      "rm 2020@01@15@7346.png\n",
      "rm 2020@01@15@7357.png\n",
      "rm 2020@01@15@7365.png\n",
      "rm 2020@01@15@7371.png\n",
      "rm 2020@01@15@7388.png\n",
      "rm 2020@01@15@7511.png\n",
      "rm 2020@01@15@7364.png\n",
      "rm 2020@01@15@7383.png\n",
      "rm 2020@01@15@7520.png\n",
      "rm 2020@01@15@7368.png\n",
      "rm 2020@01@15@7416.png\n",
      "rm 2020@01@15@7480.png\n",
      "rm 2020@01@15@7404.png\n"
     ]
    }
   ],
   "source": [
    "for img in issues[1:]:\n",
    "    print(\"rm\", img)"
   ]
  },
  {
   "cell_type": "markdown",
   "metadata": {},
   "source": [
    "/home/jupyter/brand_images/2020@01@15@7422.png\n",
    "/home/jupyter/brand_images/2020@01@15@7514.png\n",
    "/home/jupyter/brand_images/2020@01@15@7347.png\n",
    "/home/jupyter/brand_images/2020@01@15@7366.png\n",
    "/home/jupyter/brand_images/2020@01@15@7478.png\n",
    "/home/jupyter/brand_images/2020@01@15@7359.png\n",
    "/home/jupyter/brand_images/2020@01@15@7482.png\n",
    "/home/jupyter/brand_images/2020@01@15@7415.png"
   ]
  },
  {
   "cell_type": "code",
   "execution_count": 26,
   "metadata": {},
   "outputs": [
    {
     "data": {
      "application/vnd.jupyter.widget-view+json": {
       "model_id": "a331e92baac94316be1abf88ba7435e7",
       "version_major": 2,
       "version_minor": 0
      },
      "text/plain": [
       "HBox(children=(HTML(value=''), FloatProgress(value=0.0, max=7948.0), HTML(value='')))"
      ]
     },
     "metadata": {},
     "output_type": "display_data"
    },
    {
     "name": "stdout",
     "output_type": "stream",
     "text": [
      "\n"
     ]
    },
    {
     "ename": "NameError",
     "evalue": "name 'np' is not defined",
     "output_type": "error",
     "traceback": [
      "\u001b[0;31m---------------------------------------------------------------------------\u001b[0m",
      "\u001b[0;31mNameError\u001b[0m                                 Traceback (most recent call last)",
      "\u001b[0;32m<ipython-input-26-167e6ed28eb2>\u001b[0m in \u001b[0;36m<module>\u001b[0;34m\u001b[0m\n\u001b[1;32m     18\u001b[0m         \u001b[0mexceptions\u001b[0m\u001b[0;34m.\u001b[0m\u001b[0mappend\u001b[0m\u001b[0;34m(\u001b[0m\u001b[0;34m[\u001b[0m\u001b[0mx_y_image\u001b[0m\u001b[0;34m,\u001b[0m \u001b[0me\u001b[0m\u001b[0;34m]\u001b[0m\u001b[0;34m)\u001b[0m\u001b[0;34m\u001b[0m\u001b[0;34m\u001b[0m\u001b[0m\n\u001b[1;32m     19\u001b[0m \u001b[0;34m\u001b[0m\u001b[0m\n\u001b[0;32m---> 20\u001b[0;31m \u001b[0mnp\u001b[0m\u001b[0;34m.\u001b[0m\u001b[0msave\u001b[0m\u001b[0;34m(\u001b[0m\u001b[0;34m\"exceptions.npy\"\u001b[0m\u001b[0;34m,\u001b[0m \u001b[0mexceptions\u001b[0m\u001b[0;34m)\u001b[0m\u001b[0;34m\u001b[0m\u001b[0;34m\u001b[0m\u001b[0m\n\u001b[0m",
      "\u001b[0;31mNameError\u001b[0m: name 'np' is not defined"
     ]
    }
   ],
   "source": [
    "x_y_image = sizes\n",
    "\n",
    "exceptions = []\n",
    "for x_y_image in tqdm(x_y_image):\n",
    "    try:\n",
    "        filename = x_y_image[2]\n",
    "        new_filename = \"resc_\" + filename\n",
    "        if os.path.isfile(PATH_TO_IMG_RESC / new_filename):\n",
    "            continue\n",
    "        img = Image.open(PATH_TO_IMG / filename)\n",
    "        y = 512\n",
    "        scale = 512 / int(x_y_image[1])\n",
    "        x = round(scale * int(x_y_image[0]))\n",
    "        img = img.resize((x, y), Image.ANTIALIAS)\n",
    "        img.save(PATH_TO_IMG_RESC / new_filename)\n",
    "        piexif.transplant(PATH_TO_IMG / filename, PATH_TO_IMG_RESC / new_filename)\n",
    "    except Exception as e:\n",
    "        exceptions.append([x_y_image, e])\n"
   ]
  },
  {
   "cell_type": "code",
   "execution_count": 28,
   "metadata": {},
   "outputs": [
    {
     "data": {
      "text/plain": [
       "[[[4128, 3096, '2020@02@18@13187.png'],\n",
       "  NameError(\"name 'piexif' is not defined\")],\n",
       " [[4128, 3096, '2020@02@11@12067.png'],\n",
       "  NameError(\"name 'piexif' is not defined\")],\n",
       " [[3264, 2448, '2020@01@05@EJf7I8A5vPolxs7praiFQGfSSuqxXjx8yPYqJfsR.jpeg'],\n",
       "  NameError(\"name 'piexif' is not defined\")],\n",
       " [[2448, 2448, '2020@09@27@nwrBlUOlB2wUtM5Hk1R2pQjIZXX9jYOZLbuOMOrs.jpg'],\n",
       "  NameError(\"name 'piexif' is not defined\")],\n",
       " [[3264, 2448, '2020@01@05@nNk16dHndthekxaaruRdo95XF9JhQLlAvIfTITvT.jpeg'],\n",
       "  NameError(\"name 'piexif' is not defined\")]]"
      ]
     },
     "execution_count": 28,
     "metadata": {},
     "output_type": "execute_result"
    }
   ],
   "source": [
    "exceptions[:5]"
   ]
  },
  {
   "cell_type": "code",
   "execution_count": null,
   "metadata": {},
   "outputs": [],
   "source": []
  }
 ],
 "metadata": {
  "environment": {
   "name": "pytorch-gpu.1-6.m59",
   "type": "gcloud",
   "uri": "gcr.io/deeplearning-platform-release/pytorch-gpu.1-6:m59"
  },
  "kernelspec": {
   "display_name": "Python 3",
   "language": "python",
   "name": "python3"
  },
  "language_info": {
   "codemirror_mode": {
    "name": "ipython",
    "version": 3
   },
   "file_extension": ".py",
   "mimetype": "text/x-python",
   "name": "python",
   "nbconvert_exporter": "python",
   "pygments_lexer": "ipython3",
   "version": "3.7.8"
  }
 },
 "nbformat": 4,
 "nbformat_minor": 4
}
