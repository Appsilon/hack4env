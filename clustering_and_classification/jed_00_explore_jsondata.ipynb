{
 "cells": [
  {
   "cell_type": "code",
   "execution_count": 1,
   "metadata": {},
   "outputs": [],
   "source": [
    "import json\n",
    "\n",
    "import pandas as pd"
   ]
  },
  {
   "cell_type": "code",
   "execution_count": 2,
   "metadata": {},
   "outputs": [
    {
     "data": {
      "text/plain": [
       "2"
      ]
     },
     "execution_count": 2,
     "metadata": {},
     "output_type": "execute_result"
    }
   ],
   "source": [
    "with open('jsondata.json') as json_file:\n",
    "    jsondata = json.load(json_file)\n",
    "    \n",
    "len(jsondata)"
   ]
  },
  {
   "cell_type": "code",
   "execution_count": 3,
   "metadata": {},
   "outputs": [
    {
     "data": {
      "text/plain": [
       "['type', 'features']"
      ]
     },
     "execution_count": 3,
     "metadata": {},
     "output_type": "execute_result"
    }
   ],
   "source": [
    "[i for i in jsondata]"
   ]
  },
  {
   "cell_type": "code",
   "execution_count": 4,
   "metadata": {},
   "outputs": [
    {
     "data": {
      "text/plain": [
       "56568"
      ]
     },
     "execution_count": 4,
     "metadata": {},
     "output_type": "execute_result"
    }
   ],
   "source": [
    "len(jsondata[\"features\"])"
   ]
  },
  {
   "cell_type": "code",
   "execution_count": 5,
   "metadata": {},
   "outputs": [
    {
     "data": {
      "text/plain": [
       "{'type': 'Feature',\n",
       " 'geometry': {'type': 'Point',\n",
       "  'coordinates': [106.7379379272461, 10.795654296875]},\n",
       " 'properties': {'photo_id': 56161,\n",
       "  'filename': 'https://olm-s3.s3.eu-west-1.amazonaws.com/2020/01/05/116338.png',\n",
       "  'model': 'CPH1801',\n",
       "  'datetime': '2020-01-05 12:15:17',\n",
       "  'lat': 10.795654296875,\n",
       "  'lon': 106.7379379272461,\n",
       "  'result_string': 'other.dump 1,'}}"
      ]
     },
     "execution_count": 5,
     "metadata": {},
     "output_type": "execute_result"
    }
   ],
   "source": [
    "jsondata[\"features\"][0]"
   ]
  },
  {
   "cell_type": "code",
   "execution_count": 6,
   "metadata": {},
   "outputs": [
    {
     "data": {
      "text/plain": [
       "['https://olm-s3.s3.eu-west-1.amazonaws.com/2020/01/05/116338.png',\n",
       " 'https://olm-s3.s3.eu-west-1.amazonaws.com/2020/01/05/116339.png',\n",
       " 'https://olm-s3.s3.eu-west-1.amazonaws.com/2020/01/05/116340.png',\n",
       " 'https://olm-s3.s3.eu-west-1.amazonaws.com/2020/01/05/116341.png',\n",
       " 'https://olm-s3.s3.eu-west-1.amazonaws.com/2020/01/05/116342.png']"
      ]
     },
     "execution_count": 6,
     "metadata": {},
     "output_type": "execute_result"
    }
   ],
   "source": [
    "filename = [feat[\"properties\"][\"filename\"] for feat in jsondata[\"features\"]]\n",
    "lon = [feat[\"properties\"][\"lon\"] for feat in jsondata[\"features\"]]\n",
    "lat = [feat[\"properties\"][\"lat\"] for feat in jsondata[\"features\"]]\n",
    "result_string = [feat[\"properties\"][\"result_string\"] for feat in jsondata[\"features\"]]\n",
    "filename[:5]"
   ]
  },
  {
   "cell_type": "code",
   "execution_count": 10,
   "metadata": {},
   "outputs": [
    {
     "data": {
      "text/plain": [
       "1560"
      ]
     },
     "execution_count": 10,
     "metadata": {},
     "output_type": "execute_result"
    }
   ],
   "source": [
    "len([len(x) for x in result_string if len(x)==0])"
   ]
  },
  {
   "cell_type": "markdown",
   "metadata": {},
   "source": [
    "so 1560 images have no result string"
   ]
  },
  {
   "cell_type": "code",
   "execution_count": 15,
   "metadata": {},
   "outputs": [
    {
     "data": {
      "text/html": [
       "<div>\n",
       "<style scoped>\n",
       "    .dataframe tbody tr th:only-of-type {\n",
       "        vertical-align: middle;\n",
       "    }\n",
       "\n",
       "    .dataframe tbody tr th {\n",
       "        vertical-align: top;\n",
       "    }\n",
       "\n",
       "    .dataframe thead th {\n",
       "        text-align: right;\n",
       "    }\n",
       "</style>\n",
       "<table border=\"1\" class=\"dataframe\">\n",
       "  <thead>\n",
       "    <tr style=\"text-align: right;\">\n",
       "      <th></th>\n",
       "      <th>filename</th>\n",
       "      <th>lon</th>\n",
       "      <th>lat</th>\n",
       "      <th>result_string</th>\n",
       "    </tr>\n",
       "  </thead>\n",
       "  <tbody>\n",
       "    <tr>\n",
       "      <th>0</th>\n",
       "      <td>https://olm-s3.s3.eu-west-1.amazonaws.com/2020...</td>\n",
       "      <td>106.737938</td>\n",
       "      <td>10.795654</td>\n",
       "      <td>other.dump 1,</td>\n",
       "    </tr>\n",
       "    <tr>\n",
       "      <th>1</th>\n",
       "      <td>https://olm-s3.s3.eu-west-1.amazonaws.com/2020...</td>\n",
       "      <td>106.737968</td>\n",
       "      <td>10.795668</td>\n",
       "      <td>other.dump 1,</td>\n",
       "    </tr>\n",
       "    <tr>\n",
       "      <th>2</th>\n",
       "      <td>https://olm-s3.s3.eu-west-1.amazonaws.com/2020...</td>\n",
       "      <td>106.737968</td>\n",
       "      <td>10.795668</td>\n",
       "      <td>other.dump 1,</td>\n",
       "    </tr>\n",
       "    <tr>\n",
       "      <th>3</th>\n",
       "      <td>https://olm-s3.s3.eu-west-1.amazonaws.com/2020...</td>\n",
       "      <td>106.737968</td>\n",
       "      <td>10.795668</td>\n",
       "      <td>other.dump 1,</td>\n",
       "    </tr>\n",
       "    <tr>\n",
       "      <th>4</th>\n",
       "      <td>https://olm-s3.s3.eu-west-1.amazonaws.com/2020...</td>\n",
       "      <td>106.739403</td>\n",
       "      <td>10.796682</td>\n",
       "      <td>other.dump 1,</td>\n",
       "    </tr>\n",
       "    <tr>\n",
       "      <th>...</th>\n",
       "      <td>...</td>\n",
       "      <td>...</td>\n",
       "      <td>...</td>\n",
       "      <td>...</td>\n",
       "    </tr>\n",
       "    <tr>\n",
       "      <th>56563</th>\n",
       "      <td>https://olm-s3.s3.eu-west-1.amazonaws.com/2021...</td>\n",
       "      <td>6.148425</td>\n",
       "      <td>52.792167</td>\n",
       "      <td>softdrinks.tinCan 1,</td>\n",
       "    </tr>\n",
       "    <tr>\n",
       "      <th>56564</th>\n",
       "      <td>https://olm-s3.s3.eu-west-1.amazonaws.com/2020...</td>\n",
       "      <td>-121.198683</td>\n",
       "      <td>36.481358</td>\n",
       "      <td>other.metal 1,</td>\n",
       "    </tr>\n",
       "    <tr>\n",
       "      <th>56565</th>\n",
       "      <td>https://olm-s3.s3.eu-west-1.amazonaws.com/2021...</td>\n",
       "      <td>4.736838</td>\n",
       "      <td>52.485755</td>\n",
       "      <td>softdrinks.energy_can 1,brands.redbull 1,</td>\n",
       "    </tr>\n",
       "    <tr>\n",
       "      <th>56566</th>\n",
       "      <td>https://olm-s3.s3.eu-west-1.amazonaws.com/2021...</td>\n",
       "      <td>4.736853</td>\n",
       "      <td>52.485753</td>\n",
       "      <td>softdrinks.energy_can 1,brands.redbull 1,</td>\n",
       "    </tr>\n",
       "    <tr>\n",
       "      <th>56567</th>\n",
       "      <td>https://olm-s3.s3.eu-west-1.amazonaws.com/2021...</td>\n",
       "      <td>6.138422</td>\n",
       "      <td>52.793317</td>\n",
       "      <td>other.balloons 1,</td>\n",
       "    </tr>\n",
       "  </tbody>\n",
       "</table>\n",
       "<p>56568 rows × 4 columns</p>\n",
       "</div>"
      ],
      "text/plain": [
       "                                                filename         lon  \\\n",
       "0      https://olm-s3.s3.eu-west-1.amazonaws.com/2020...  106.737938   \n",
       "1      https://olm-s3.s3.eu-west-1.amazonaws.com/2020...  106.737968   \n",
       "2      https://olm-s3.s3.eu-west-1.amazonaws.com/2020...  106.737968   \n",
       "3      https://olm-s3.s3.eu-west-1.amazonaws.com/2020...  106.737968   \n",
       "4      https://olm-s3.s3.eu-west-1.amazonaws.com/2020...  106.739403   \n",
       "...                                                  ...         ...   \n",
       "56563  https://olm-s3.s3.eu-west-1.amazonaws.com/2021...    6.148425   \n",
       "56564  https://olm-s3.s3.eu-west-1.amazonaws.com/2020... -121.198683   \n",
       "56565  https://olm-s3.s3.eu-west-1.amazonaws.com/2021...    4.736838   \n",
       "56566  https://olm-s3.s3.eu-west-1.amazonaws.com/2021...    4.736853   \n",
       "56567  https://olm-s3.s3.eu-west-1.amazonaws.com/2021...    6.138422   \n",
       "\n",
       "             lat                              result_string  \n",
       "0      10.795654                              other.dump 1,  \n",
       "1      10.795668                              other.dump 1,  \n",
       "2      10.795668                              other.dump 1,  \n",
       "3      10.795668                              other.dump 1,  \n",
       "4      10.796682                              other.dump 1,  \n",
       "...          ...                                        ...  \n",
       "56563  52.792167                       softdrinks.tinCan 1,  \n",
       "56564  36.481358                             other.metal 1,  \n",
       "56565  52.485755  softdrinks.energy_can 1,brands.redbull 1,  \n",
       "56566  52.485753  softdrinks.energy_can 1,brands.redbull 1,  \n",
       "56567  52.793317                          other.balloons 1,  \n",
       "\n",
       "[56568 rows x 4 columns]"
      ]
     },
     "execution_count": 15,
     "metadata": {},
     "output_type": "execute_result"
    }
   ],
   "source": [
    "df = pd.DataFrame({\"filename\": filename, \"lon\": lon, \"lat\": lat, \"result_string\": result_string})\n",
    "df"
   ]
  },
  {
   "cell_type": "code",
   "execution_count": 27,
   "metadata": {},
   "outputs": [
    {
     "data": {
      "text/plain": [
       "'https://olm-s3.s3.eu-west-1.amazonaws.com/2020/01/05/0906E7B5-0AF4-496B-BCF8-D1493FE3C067.png'"
      ]
     },
     "execution_count": 27,
     "metadata": {},
     "output_type": "execute_result"
    }
   ],
   "source": [
    "df[[(len(x) == 0) for x in result_string]].filename.reset_index(drop=True)[1]"
   ]
  },
  {
   "cell_type": "code",
   "execution_count": 29,
   "metadata": {},
   "outputs": [
    {
     "data": {
      "text/html": [
       "<div>\n",
       "<style scoped>\n",
       "    .dataframe tbody tr th:only-of-type {\n",
       "        vertical-align: middle;\n",
       "    }\n",
       "\n",
       "    .dataframe tbody tr th {\n",
       "        vertical-align: top;\n",
       "    }\n",
       "\n",
       "    .dataframe thead th {\n",
       "        text-align: right;\n",
       "    }\n",
       "</style>\n",
       "<table border=\"1\" class=\"dataframe\">\n",
       "  <thead>\n",
       "    <tr style=\"text-align: right;\">\n",
       "      <th></th>\n",
       "      <th>filename</th>\n",
       "      <th>lon</th>\n",
       "      <th>lat</th>\n",
       "      <th>result_string</th>\n",
       "    </tr>\n",
       "  </thead>\n",
       "  <tbody>\n",
       "    <tr>\n",
       "      <th>0</th>\n",
       "      <td>https://olm-s3.s3.eu-west-1.amazonaws.com/2020...</td>\n",
       "      <td>106.737938</td>\n",
       "      <td>10.795654</td>\n",
       "      <td>other.dump 1,</td>\n",
       "    </tr>\n",
       "    <tr>\n",
       "      <th>1</th>\n",
       "      <td>https://olm-s3.s3.eu-west-1.amazonaws.com/2020...</td>\n",
       "      <td>106.737968</td>\n",
       "      <td>10.795668</td>\n",
       "      <td>other.dump 1,</td>\n",
       "    </tr>\n",
       "    <tr>\n",
       "      <th>2</th>\n",
       "      <td>https://olm-s3.s3.eu-west-1.amazonaws.com/2020...</td>\n",
       "      <td>106.737968</td>\n",
       "      <td>10.795668</td>\n",
       "      <td>other.dump 1,</td>\n",
       "    </tr>\n",
       "    <tr>\n",
       "      <th>3</th>\n",
       "      <td>https://olm-s3.s3.eu-west-1.amazonaws.com/2020...</td>\n",
       "      <td>106.737968</td>\n",
       "      <td>10.795668</td>\n",
       "      <td>other.dump 1,</td>\n",
       "    </tr>\n",
       "    <tr>\n",
       "      <th>4</th>\n",
       "      <td>https://olm-s3.s3.eu-west-1.amazonaws.com/2020...</td>\n",
       "      <td>106.739403</td>\n",
       "      <td>10.796682</td>\n",
       "      <td>other.dump 1,</td>\n",
       "    </tr>\n",
       "    <tr>\n",
       "      <th>...</th>\n",
       "      <td>...</td>\n",
       "      <td>...</td>\n",
       "      <td>...</td>\n",
       "      <td>...</td>\n",
       "    </tr>\n",
       "    <tr>\n",
       "      <th>56563</th>\n",
       "      <td>https://olm-s3.s3.eu-west-1.amazonaws.com/2021...</td>\n",
       "      <td>6.148425</td>\n",
       "      <td>52.792167</td>\n",
       "      <td>softdrinks.tinCan 1,</td>\n",
       "    </tr>\n",
       "    <tr>\n",
       "      <th>56564</th>\n",
       "      <td>https://olm-s3.s3.eu-west-1.amazonaws.com/2020...</td>\n",
       "      <td>-121.198683</td>\n",
       "      <td>36.481358</td>\n",
       "      <td>other.metal 1,</td>\n",
       "    </tr>\n",
       "    <tr>\n",
       "      <th>56565</th>\n",
       "      <td>https://olm-s3.s3.eu-west-1.amazonaws.com/2021...</td>\n",
       "      <td>4.736838</td>\n",
       "      <td>52.485755</td>\n",
       "      <td>softdrinks.energy_can 1,brands.redbull 1,</td>\n",
       "    </tr>\n",
       "    <tr>\n",
       "      <th>56566</th>\n",
       "      <td>https://olm-s3.s3.eu-west-1.amazonaws.com/2021...</td>\n",
       "      <td>4.736853</td>\n",
       "      <td>52.485753</td>\n",
       "      <td>softdrinks.energy_can 1,brands.redbull 1,</td>\n",
       "    </tr>\n",
       "    <tr>\n",
       "      <th>56567</th>\n",
       "      <td>https://olm-s3.s3.eu-west-1.amazonaws.com/2021...</td>\n",
       "      <td>6.138422</td>\n",
       "      <td>52.793317</td>\n",
       "      <td>other.balloons 1,</td>\n",
       "    </tr>\n",
       "  </tbody>\n",
       "</table>\n",
       "<p>55008 rows × 4 columns</p>\n",
       "</div>"
      ],
      "text/plain": [
       "                                                filename         lon  \\\n",
       "0      https://olm-s3.s3.eu-west-1.amazonaws.com/2020...  106.737938   \n",
       "1      https://olm-s3.s3.eu-west-1.amazonaws.com/2020...  106.737968   \n",
       "2      https://olm-s3.s3.eu-west-1.amazonaws.com/2020...  106.737968   \n",
       "3      https://olm-s3.s3.eu-west-1.amazonaws.com/2020...  106.737968   \n",
       "4      https://olm-s3.s3.eu-west-1.amazonaws.com/2020...  106.739403   \n",
       "...                                                  ...         ...   \n",
       "56563  https://olm-s3.s3.eu-west-1.amazonaws.com/2021...    6.148425   \n",
       "56564  https://olm-s3.s3.eu-west-1.amazonaws.com/2020... -121.198683   \n",
       "56565  https://olm-s3.s3.eu-west-1.amazonaws.com/2021...    4.736838   \n",
       "56566  https://olm-s3.s3.eu-west-1.amazonaws.com/2021...    4.736853   \n",
       "56567  https://olm-s3.s3.eu-west-1.amazonaws.com/2021...    6.138422   \n",
       "\n",
       "             lat                              result_string  \n",
       "0      10.795654                              other.dump 1,  \n",
       "1      10.795668                              other.dump 1,  \n",
       "2      10.795668                              other.dump 1,  \n",
       "3      10.795668                              other.dump 1,  \n",
       "4      10.796682                              other.dump 1,  \n",
       "...          ...                                        ...  \n",
       "56563  52.792167                       softdrinks.tinCan 1,  \n",
       "56564  36.481358                             other.metal 1,  \n",
       "56565  52.485755  softdrinks.energy_can 1,brands.redbull 1,  \n",
       "56566  52.485753  softdrinks.energy_can 1,brands.redbull 1,  \n",
       "56567  52.793317                          other.balloons 1,  \n",
       "\n",
       "[55008 rows x 4 columns]"
      ]
     },
     "execution_count": 29,
     "metadata": {},
     "output_type": "execute_result"
    }
   ],
   "source": [
    "df_nona = df[[(len(x) > 0) for x in result_string]]\n",
    "df_nona"
   ]
  },
  {
   "cell_type": "code",
   "execution_count": 30,
   "metadata": {},
   "outputs": [],
   "source": [
    "df.to_csv(\"jsondata.csv\", index=False)\n",
    "df_nona.to_csv(\"jsondata_nona.csv\", index=False)"
   ]
  },
  {
   "cell_type": "markdown",
   "metadata": {},
   "source": [
    "# Expand df with dummy variables for result_string"
   ]
  },
  {
   "cell_type": "code",
   "execution_count": 63,
   "metadata": {},
   "outputs": [
    {
     "data": {
      "text/plain": [
       "['food@napkins 6', 'softdrinks@plastic_cups 1', 'alcohol@beerBottle 2']"
      ]
     },
     "execution_count": 63,
     "metadata": {},
     "output_type": "execute_result"
    }
   ],
   "source": [
    "df[\"result_string_2\"] = df.result_string.str.replace(\".\", \"@\").apply(lambda x: x[:-1].split(\",\"))\n",
    "df.result_string_2[5]"
   ]
  },
  {
   "cell_type": "markdown",
   "metadata": {},
   "source": [
    "#### are there photos only with brand?"
   ]
  },
  {
   "cell_type": "code",
   "execution_count": 67,
   "metadata": {},
   "outputs": [
    {
     "data": {
      "text/plain": [
       "2     6702\n",
       "3      691\n",
       "4      367\n",
       "5      171\n",
       "6      129\n",
       "1       80\n",
       "7       70\n",
       "8       40\n",
       "9       26\n",
       "10      18\n",
       "12      12\n",
       "11      11\n",
       "13       8\n",
       "15       6\n",
       "14       2\n",
       "16       2\n",
       "28       1\n",
       "22       1\n",
       "56       1\n",
       "23       1\n",
       "Name: result_string_2, dtype: int64"
      ]
     },
     "execution_count": 67,
     "metadata": {},
     "output_type": "execute_result"
    }
   ],
   "source": [
    "df[df.result_string.str.contains(\"brand\")].result_string_2.apply(lambda x: len(x)).value_counts()"
   ]
  },
  {
   "cell_type": "markdown",
   "metadata": {},
   "source": [
    "seems so! There are 80 rows with only brand as a label..."
   ]
  },
  {
   "cell_type": "markdown",
   "metadata": {},
   "source": [
    "#### how many categories are there?"
   ]
  },
  {
   "cell_type": "code",
   "execution_count": 70,
   "metadata": {},
   "outputs": [
    {
     "data": {
      "text/plain": [
       "1     43739\n",
       "2      9474\n",
       "3      1713\n",
       "4       754\n",
       "5       356\n",
       "6       224\n",
       "7       118\n",
       "8        66\n",
       "9        42\n",
       "10       23\n",
       "12       16\n",
       "11       15\n",
       "13        8\n",
       "15        7\n",
       "14        3\n",
       "16        2\n",
       "28        1\n",
       "17        1\n",
       "18        1\n",
       "19        1\n",
       "22        1\n",
       "23        1\n",
       "56        1\n",
       "60        1\n",
       "Name: result_string_2, dtype: int64"
      ]
     },
     "execution_count": 70,
     "metadata": {},
     "output_type": "execute_result"
    }
   ],
   "source": [
    "df.result_string_2.apply(lambda x: len(x)).value_counts()"
   ]
  },
  {
   "cell_type": "code",
   "execution_count": 71,
   "metadata": {},
   "outputs": [
    {
     "data": {
      "text/plain": [
       "77.32110026870316"
      ]
     },
     "execution_count": 71,
     "metadata": {},
     "output_type": "execute_result"
    }
   ],
   "source": [
    "43739/len(df)*100"
   ]
  },
  {
   "cell_type": "code",
   "execution_count": 72,
   "metadata": {},
   "outputs": [
    {
     "data": {
      "text/plain": [
       "16.747984726347052"
      ]
     },
     "execution_count": 72,
     "metadata": {},
     "output_type": "execute_result"
    }
   ],
   "source": [
    "9474/len(df)*100"
   ]
  },
  {
   "cell_type": "markdown",
   "metadata": {},
   "source": [
    "so almost all have 1 or 2 labels"
   ]
  },
  {
   "cell_type": "code",
   "execution_count": 76,
   "metadata": {},
   "outputs": [
    {
     "data": {
      "text/plain": [
       "'https://olm-s3.s3.eu-west-1.amazonaws.com/2020/01/05/116339.png'"
      ]
     },
     "execution_count": 76,
     "metadata": {},
     "output_type": "execute_result"
    }
   ],
   "source": [
    "df.filename[:5][1]"
   ]
  },
  {
   "cell_type": "code",
   "execution_count": null,
   "metadata": {},
   "outputs": [],
   "source": []
  }
 ],
 "metadata": {
  "environment": {
   "name": "pytorch-gpu.1-6.m59",
   "type": "gcloud",
   "uri": "gcr.io/deeplearning-platform-release/pytorch-gpu.1-6:m59"
  },
  "kernelspec": {
   "display_name": "Python 3",
   "language": "python",
   "name": "python3"
  },
  "language_info": {
   "codemirror_mode": {
    "name": "ipython",
    "version": 3
   },
   "file_extension": ".py",
   "mimetype": "text/x-python",
   "name": "python",
   "nbconvert_exporter": "python",
   "pygments_lexer": "ipython3",
   "version": "3.7.8"
  }
 },
 "nbformat": 4,
 "nbformat_minor": 4
}
